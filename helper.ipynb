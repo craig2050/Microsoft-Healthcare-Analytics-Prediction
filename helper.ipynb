{
 "cells": [
  {
   "cell_type": "code",
   "execution_count": 2,
   "id": "5d79948c-ad82-4e06-9b16-c731ce856ecb",
   "metadata": {
    "tags": []
   },
   "outputs": [],
   "source": [
    "import math\n",
    "import matplotlib.pyplot as plt\n",
    "\n",
    "def plot_histograms(df):\n",
    "    num_columns = df.select_dtypes(include=['float64', 'int64']).columns\n",
    "    num_cols = len(num_columns)\n",
    "\n",
    "    # Calculate the number of rows and columns for the layout dynamically\n",
    "    n_cols = 2  # Set the number of columns for the grid layout (reduce to make graphs smaller)\n",
    "    n_rows = math.ceil(num_cols / n_cols)  # Calculate rows based on number of columns\n",
    "\n",
    "    # Adjust the figure size to make the plots smaller (smaller figsize reduces individual plot size)\n",
    "    fig, axes = plt.subplots(n_rows, n_cols, figsize=(10, n_rows * 3))  # Reduced figure size\n",
    "    axes = axes.flatten()  # Flatten the 2D array of axes to 1D for easy iteration\n",
    "\n",
    "    for i, col in enumerate(num_columns):\n",
    "        df[col].hist(bins=15, ax=axes[i], edgecolor='black')\n",
    "        axes[i].set_title(f'Histogram of {col}')\n",
    "    \n",
    "    # Hide any unused subplots\n",
    "    for i in range(num_cols, len(axes)):\n",
    "        fig.delaxes(axes[i])\n",
    "    \n",
    "    plt.tight_layout()\n",
    "    plt.suptitle(\"Histograms for Numerical Columns\", y=1.02)\n",
    "    plt.show()\n"
   ]
  },
  {
   "cell_type": "code",
   "execution_count": 8,
   "id": "2eb25679-0a35-471f-bbb6-fa28b7032db0",
   "metadata": {},
   "outputs": [],
   "source": [
    "import pandas as pd\n",
    "from scipy.stats import chi2_contingency\n",
    "\n",
    "# Function to perform chi-square test between two columns\n",
    "def chi_square_test(df, col1, col2):\n",
    "    # Create a contingency table\n",
    "    contingency_table = pd.crosstab(df[col1], df[col2])\n",
    "\n",
    "    # Perform Chi-Square test\n",
    "    chi2, p, dof, expected = chi2_contingency(contingency_table)\n",
    "    \n",
    "    if p < 0.05:\n",
    "        result = 'significant' + 'there is an association'\n",
    "    else:\n",
    "        result = 'insignificant'\n",
    "\n",
    "    print(f\"Chi-Square Test between {col1} and {col2}:\")\n",
    "    print(f\"Chi2 Statistic: {chi2}\")\n",
    "    print(f\"P-value: {p} - ({result}) \\n\")\n",
    "    return p\n"
   ]
  },
  {
   "cell_type": "code",
   "execution_count": 11,
   "id": "f80c744e-489e-44a5-9ddc-a522feb2557d",
   "metadata": {},
   "outputs": [],
   "source": [
    "import matplotlib.pyplot as plt\n",
    "import seaborn as sns\n",
    "from sklearn.metrics import confusion_matrix\n",
    "\n",
    "def plot_confusion_matrix_with_legend(y_test, y_pred, title='Confusion Matrix with Legend'):\n",
    "    \"\"\"\n",
    "    Plots a confusion matrix with class labels and a legend.\n",
    "    \n",
    "    Parameters:\n",
    "    y_test : array-like\n",
    "        True labels of the test data.\n",
    "    y_pred : array-like\n",
    "        Predicted labels from the model.\n",
    "    title : str, optional\n",
    "        Title for the confusion matrix plot.\n",
    "    \"\"\"\n",
    "    # Confusion matrix\n",
    "    conf_matrix = confusion_matrix(y_test, y_pred)\n",
    "\n",
    "    # Create the labels for the length of stay categories (adjust according to your class mapping)\n",
    "    class_labels = sorted(y_test.unique())  # Assuming y_test contains numeric or categorical labels for length of stay\n",
    "\n",
    "    # Plot the confusion matrix\n",
    "    plt.figure(figsize=(10, 7))\n",
    "    sns.heatmap(conf_matrix, annot=True, fmt='d', cmap='Blues', cbar=False,\n",
    "                xticklabels=class_labels, yticklabels=class_labels)\n",
    "\n",
    "    plt.title(title)\n",
    "    plt.xlabel('Predicted Label')\n",
    "    plt.ylabel('True Label')\n",
    "\n",
    "    # Show the plot\n",
    "    plt.show()\n"
   ]
  },
  {
   "cell_type": "code",
   "execution_count": 12,
   "id": "7d1bf79a-d6db-45cb-ab3d-e0314e82f552",
   "metadata": {
    "tags": []
   },
   "outputs": [
    {
     "name": "stdout",
     "output_type": "stream",
     "text": [
      "pandas is installed.\n",
      "numpy is installed.\n",
      "scikit-learn is NOT installed.\n",
      "seaborn is installed.\n",
      "matplotlib is installed.\n",
      "plotly is installed.\n",
      "scipy is installed.\n",
      "xgboost is installed.\n",
      "pandas==2.0.3 version is correct.\n",
      "numpy==1.24.2 version conflict: numpy 1.24.3 is installed but numpy==1.24.2 is required\n",
      "scikit-learn==1.3.0 version is correct.\n",
      "seaborn==0.12.2 version is correct.\n",
      "matplotlib==3.8.0 version conflict: matplotlib 3.7.2 is installed but matplotlib==3.8.0 is required\n",
      "plotly==5.15.0 version conflict: plotly 5.9.0 is installed but plotly==5.15.0 is required\n",
      "scipy==1.11.2 version conflict: scipy 1.11.1 is installed but scipy==1.11.2 is required\n",
      "xgboost==1.7.6 version conflict: xgboost 2.1.1 is installed but xgboost==1.7.6 is required\n"
     ]
    }
   ],
   "source": [
    "import importlib\n",
    "import pkg_resources\n",
    "\n",
    "def check_requirements(requirements_file='requirements.txt'):\n",
    "    with open(requirements_file, 'r') as file:\n",
    "        for line in file:\n",
    "            package = line.strip().split('==')[0]\n",
    "            try:\n",
    "                importlib.import_module(package)\n",
    "                print(f\"{package} is installed.\")\n",
    "            except ImportError:\n",
    "                print(f\"{package} is NOT installed.\")\n",
    "\n",
    "# Check for installed packages and correct versions\n",
    "\n"
   ]
  },
  {
   "cell_type": "code",
   "execution_count": null,
   "id": "1b7a9b21-2638-4863-9536-e8d287289a53",
   "metadata": {},
   "outputs": [],
   "source": []
  }
 ],
 "metadata": {
  "kernelspec": {
   "display_name": "Python 3 (ipykernel)",
   "language": "python",
   "name": "python3"
  },
  "language_info": {
   "codemirror_mode": {
    "name": "ipython",
    "version": 3
   },
   "file_extension": ".py",
   "mimetype": "text/x-python",
   "name": "python",
   "nbconvert_exporter": "python",
   "pygments_lexer": "ipython3",
   "version": "3.11.5"
  }
 },
 "nbformat": 4,
 "nbformat_minor": 5
}
