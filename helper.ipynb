{
 "cells": [
  {
   "cell_type": "code",
   "execution_count": 2,
   "id": "5d79948c-ad82-4e06-9b16-c731ce856ecb",
   "metadata": {
    "tags": []
   },
   "outputs": [],
   "source": [
    "import math\n",
    "import matplotlib.pyplot as plt\n",
    "\n",
    "def plot_histograms(df):\n",
    "    num_columns = df.select_dtypes(include=['float64', 'int64']).columns\n",
    "    num_cols = len(num_columns)\n",
    "\n",
    "    # Calculate the number of rows and columns for the layout dynamically\n",
    "    n_cols = 2  # Set the number of columns for the grid layout (reduce to make graphs smaller)\n",
    "    n_rows = math.ceil(num_cols / n_cols)  # Calculate rows based on number of columns\n",
    "\n",
    "    # Adjust the figure size to make the plots smaller (smaller figsize reduces individual plot size)\n",
    "    fig, axes = plt.subplots(n_rows, n_cols, figsize=(10, n_rows * 3))  # Reduced figure size\n",
    "    axes = axes.flatten()  # Flatten the 2D array of axes to 1D for easy iteration\n",
    "\n",
    "    for i, col in enumerate(num_columns):\n",
    "        df[col].hist(bins=15, ax=axes[i], edgecolor='black')\n",
    "        axes[i].set_title(f'Histogram of {col}')\n",
    "    \n",
    "    # Hide any unused subplots\n",
    "    for i in range(num_cols, len(axes)):\n",
    "        fig.delaxes(axes[i])\n",
    "    \n",
    "    plt.tight_layout()\n",
    "    plt.suptitle(\"Histograms for Numerical Columns\", y=1.02)\n",
    "    plt.show()\n"
   ]
  },
  {
   "cell_type": "code",
   "execution_count": 8,
   "id": "2eb25679-0a35-471f-bbb6-fa28b7032db0",
   "metadata": {},
   "outputs": [],
   "source": [
    "import pandas as pd\n",
    "from scipy.stats import chi2_contingency\n",
    "\n",
    "# Function to perform chi-square test between two columns\n",
    "def chi_square_test(df, col1, col2):\n",
    "    # Create a contingency table\n",
    "    contingency_table = pd.crosstab(df[col1], df[col2])\n",
    "\n",
    "    # Perform Chi-Square test\n",
    "    chi2, p, dof, expected = chi2_contingency(contingency_table)\n",
    "    \n",
    "    if p < 0.05:\n",
    "        result = 'significant' + 'there is an association'\n",
    "    else:\n",
    "        result = 'insignificant'\n",
    "\n",
    "    print(f\"Chi-Square Test between {col1} and {col2}:\")\n",
    "    print(f\"Chi2 Statistic: {chi2}\")\n",
    "    print(f\"P-value: {p} - ({result}) \\n\")\n",
    "    return p\n"
   ]
  },
  {
   "cell_type": "code",
   "execution_count": null,
   "id": "f80c744e-489e-44a5-9ddc-a522feb2557d",
   "metadata": {},
   "outputs": [],
   "source": []
  }
 ],
 "metadata": {
  "kernelspec": {
   "display_name": "Python 3 (ipykernel)",
   "language": "python",
   "name": "python3"
  },
  "language_info": {
   "codemirror_mode": {
    "name": "ipython",
    "version": 3
   },
   "file_extension": ".py",
   "mimetype": "text/x-python",
   "name": "python",
   "nbconvert_exporter": "python",
   "pygments_lexer": "ipython3",
   "version": "3.11.5"
  }
 },
 "nbformat": 4,
 "nbformat_minor": 5
}
